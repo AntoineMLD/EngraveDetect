{
 "cells": [
  {
   "cell_type": "code",
   "execution_count": 1,
   "metadata": {},
   "outputs": [
    {
     "name": "stdout",
     "output_type": "stream",
     "text": [
      "                                            category   glass_name  \\\n",
      "0  progressif_tous_usages_\"free-form_full_back_side\"   premier_15   \n",
      "1  progressif_tous_usages_\"free-form_full_back_side\"   premier_16   \n",
      "2  progressif_tous_usages_\"free-form_full_back_side\"   classic_15   \n",
      "3  progressif_tous_usages_\"free-form_full_back_side\"   classic_16   \n",
      "4  progressif_tous_usages_\"free-form_full_back_side\"  classic_167   \n",
      "\n",
      "  nasal_engraving  glass_index material glass_supplier_name  image_engraving  \n",
      "0            pre5         1.50    cr 39           adn_optis            False  \n",
      "1            pre6         1.61      mr8           adn_optis            False  \n",
      "2            cla5         1.50    cr 39           adn_optis            False  \n",
      "3            cla6         1.61      mr8           adn_optis            False  \n",
      "4            cla7         1.67     mr10           adn_optis            False  \n"
     ]
    }
   ],
   "source": [
    "import pandas as pd\n",
    "\n",
    "df = pd.read_csv(\"enhanced_scrapping.csv\")\n",
    "\n",
    "print(df.head())"
   ]
  },
  {
   "cell_type": "code",
   "execution_count": 2,
   "metadata": {},
   "outputs": [
    {
     "data": {
      "text/plain": [
       "array(['premier_15', 'premier_16', 'classic_15', 'classic_16',\n",
       "       'classic_167', 'morpho_15', 'morpho_16', 'morpho_167',\n",
       "       'sensation_15', 'sensation_16', 'sensation_167', 'bifocal_15',\n",
       "       'bifocal_16', 'bifocal_167', 'proximit', 'd', 'bifocal_174',\n",
       "       'morpho_174', 'sensation_174', 'premier_167'], dtype=object)"
      ]
     },
     "execution_count": 2,
     "metadata": {},
     "output_type": "execute_result"
    }
   ],
   "source": [
    "df[\"glass_name\"].unique()"
   ]
  },
  {
   "cell_type": "code",
   "execution_count": 3,
   "metadata": {},
   "outputs": [],
   "source": [
    "df = df.drop_duplicates()"
   ]
  },
  {
   "cell_type": "code",
   "execution_count": 4,
   "metadata": {},
   "outputs": [
    {
     "data": {
      "text/plain": [
       "category               151\n",
       "glass_name             151\n",
       "nasal_engraving        125\n",
       "glass_index            151\n",
       "material               151\n",
       "glass_supplier_name    151\n",
       "image_engraving        151\n",
       "dtype: int64"
      ]
     },
     "execution_count": 4,
     "metadata": {},
     "output_type": "execute_result"
    }
   ],
   "source": [
    "df.count()"
   ]
  },
  {
   "cell_type": "code",
   "execution_count": 5,
   "metadata": {},
   "outputs": [],
   "source": [
    "df2 = df.dropna()"
   ]
  },
  {
   "cell_type": "code",
   "execution_count": 6,
   "metadata": {},
   "outputs": [
    {
     "data": {
      "text/plain": [
       "category               125\n",
       "glass_name             125\n",
       "nasal_engraving        125\n",
       "glass_index            125\n",
       "material               125\n",
       "glass_supplier_name    125\n",
       "image_engraving        125\n",
       "dtype: int64"
      ]
     },
     "execution_count": 6,
     "metadata": {},
     "output_type": "execute_result"
    }
   ],
   "source": [
    "df2.count()"
   ]
  }
 ],
 "metadata": {
  "kernelspec": {
   "display_name": "venv",
   "language": "python",
   "name": "python3"
  },
  "language_info": {
   "codemirror_mode": {
    "name": "ipython",
    "version": 3
   },
   "file_extension": ".py",
   "mimetype": "text/x-python",
   "name": "python",
   "nbconvert_exporter": "python",
   "pygments_lexer": "ipython3",
   "version": "3.10.0"
  }
 },
 "nbformat": 4,
 "nbformat_minor": 2
}
